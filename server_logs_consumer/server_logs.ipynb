{
 "cells": [
  {
   "cell_type": "code",
   "execution_count": 1,
   "id": "649758fd-1210-4c34-9be5-5f3214209da3",
   "metadata": {},
   "outputs": [],
   "source": [
    "from pyspark.sql import SparkSession\n",
    "import pyspark.sql.functions as F"
   ]
  },
  {
   "cell_type": "code",
   "execution_count": 2,
   "id": "5fb8fbc4-3ea1-4583-9876-bcc325ff8501",
   "metadata": {},
   "outputs": [],
   "source": [
    "BOOTSTRAP_SERVERS = 'confluent-local-broker-1:50459'\n",
    "TOPIC = 'server_logs'"
   ]
  },
  {
   "cell_type": "code",
   "execution_count": 3,
   "id": "986c5f66-f410-4e13-a4e0-5462f70f48c0",
   "metadata": {},
   "outputs": [],
   "source": [
    "spark = SparkSession.builder.appName('AnalyticsConsumer').getOrCreate()"
   ]
  },
  {
   "cell_type": "code",
   "execution_count": 4,
   "id": "db15b4d5-cbdf-49f0-ace4-57eac2365124",
   "metadata": {},
   "outputs": [],
   "source": [
    "def test(df, sleep_time=5, output_mode='append'):\n",
    "    import time\n",
    "    query = df.writeStream.outputMode(output_mode).format('console').options(truncate=False).start()\n",
    "    time.sleep(sleep_time)\n",
    "    query.stop()"
   ]
  },
  {
   "cell_type": "code",
   "execution_count": 5,
   "id": "a089b13f-bd0d-4c32-8cca-0ad14ce4ba8c",
   "metadata": {},
   "outputs": [],
   "source": [
    "kafka_stream_df = (\n",
    "    spark.readStream\n",
    "    .format('kafka')\n",
    "    .option('kafka.bootstrap.servers', BOOTSTRAP_SERVERS)\n",
    "    .option('subscribe', TOPIC)\n",
    "    .load()\n",
    ")"
   ]
  },
  {
   "cell_type": "code",
   "execution_count": 6,
   "id": "9f1b22d0-1485-41b7-989f-0f85e4808480",
   "metadata": {},
   "outputs": [],
   "source": [
    "test(kafka_stream_df)"
   ]
  },
  {
   "cell_type": "markdown",
   "id": "dbdf0bc6-dd5a-4386-88f1-6a5bb7af502f",
   "metadata": {},
   "source": [
    "## Write to SQL:\n",
    "#### 1. Write all of the data to a SQL database table named server_logs. Include columns: \n",
    "1. ip_address (text)\n",
    "2. user_name (text)\n",
    "3. user_id (integer)\n",
    "4. timestamp (timestamp without time zone)\n",
    "5. http_method(text)\n",
    "6. path (text)\n",
    "7. status_code (integer)"
   ]
  },
  {
   "cell_type": "markdown",
   "id": "5ab0e29d-8b75-42ab-9459-80bb2d069f11",
   "metadata": {},
   "source": [
    "#### sample data\n",
    "104.192.183.73 carl_mejia 9693 [2024-09-17T01:06:18.735420+00:00] \"GET /video/r335Q7vg9\" 200"
   ]
  },
  {
   "cell_type": "code",
   "execution_count": 7,
   "id": "81b4bf4c-fc7f-424f-8b4a-4481849db0d5",
   "metadata": {},
   "outputs": [],
   "source": [
    "df = kafka_stream_df.select(\n",
    "    kafka_stream_df.value.\n",
    "    cast('string')\n",
    ")\n",
    "\n",
    "df = df.select(F.regexp_replace(df.value, r'\\[|\\]|\\\"', '').alias('data'))\n",
    "\n",
    "df = df.select(F.split(df.data, ' ').alias('data'))\n",
    "\n",
    "df = df.select(\n",
    "    F.col('data').getItem(0).cast('string').alias('ip_address'),\n",
    "    F.col('data').getItem(1).cast('string').alias('user_name'),\n",
    "    F.col('data').getItem(2).cast('integer').alias('user_id'),\n",
    "    F.col('data').getItem(3).cast('timestamp').alias('timestamp'),\n",
    "    F.col('data').getItem(4).cast('string').alias('http_method'),\n",
    "    F.col('data').getItem(5).cast('string').alias('path'),\n",
    "    F.col('data').getItem(6).cast('integer').alias('status_code')\n",
    ")\n",
    "\n",
    "test(df)"
   ]
  },
  {
   "cell_type": "code",
   "execution_count": 8,
   "id": "be593f05-d669-447f-8953-7903ac019078",
   "metadata": {},
   "outputs": [],
   "source": [
    "DB_HOST = 'aws-0-us-west-1.pooler.supabase.com'\n",
    "DB_NAME = 'postgres'\n",
    "DB_PORT = '6543'\n",
    "DB_USERNAME = 'postgres.mecvsqfdytymqtblrlgo'\n",
    "DB_PASSWORD = 'TWZ7i7KeGaFF'\n",
    "DB_URL = f'jdbc:postgresql://{DB_HOST}:{DB_PORT}/{DB_NAME}?prepareThreshold=0'\n",
    "DB_PROPERTIES = {'user': DB_USERNAME, 'password': DB_PASSWORD, 'driver': 'org.postgresql.Driver'}"
   ]
  },
  {
   "cell_type": "code",
   "execution_count": 79,
   "id": "31595e6b-62be-477b-bad0-7297cd350976",
   "metadata": {},
   "outputs": [],
   "source": [
    "# def write_to_postgres(df, epoch_id):\n",
    "#     mode='append'\n",
    "#     table_name='server_logs'\n",
    "#     df.write.jdbc(url=DB_URL, \n",
    "#                   table=table_name, \n",
    "#                   mode=mode, \n",
    "#                   properties=DB_PROPERTIES\n",
    "#                  )\n",
    "# commenting out to try Erik's solution"
   ]
  },
  {
   "cell_type": "code",
   "execution_count": 20,
   "id": "086466ee-49fd-4cde-b013-3beb34c8d742",
   "metadata": {},
   "outputs": [],
   "source": [
    "def write_to_postgres(df, table_name: str, write_mode: str = 'append', output_mode: str = 'append'):\n",
    "    write = lambda df, epoch_id: df.write.jdbc(url=DB_URL, table=table_name, mode=write_mode, properties=DB_PROPERTIES)\n",
    "    return df.writeStream.foreachBatch(write).outputMode(output_mode).start()"
   ]
  },
  {
   "cell_type": "code",
   "execution_count": 21,
   "id": "0e17bd87-ff30-4304-9847-5afa5ffd592d",
   "metadata": {},
   "outputs": [],
   "source": [
    "# query = df.writeStream.foreachBatch(write_to_postgres).outputMode('append').start()\n",
    "query = write_to_postgres(df, 'server_logs')"
   ]
  },
  {
   "cell_type": "code",
   "execution_count": 22,
   "id": "f96dbc39-4dea-4d39-a0e9-431443a1f393",
   "metadata": {},
   "outputs": [],
   "source": [
    "query.stop()"
   ]
  },
  {
   "cell_type": "markdown",
   "id": "ed171ba4-f554-4742-a0e4-da33f4971260",
   "metadata": {},
   "source": [
    "## Aggregate errors\n",
    "#### 2. Filter the data to include only server logs that have an error code (404 or 500)"
   ]
  },
  {
   "cell_type": "code",
   "execution_count": 12,
   "id": "fed7cca0-0d93-46d0-ba74-cac26f045a15",
   "metadata": {},
   "outputs": [],
   "source": [
    "errors_df = df.filter(F.col('status_code') != 200).select('path', 'status_code')\n",
    "test(errors_df)"
   ]
  },
  {
   "cell_type": "markdown",
   "id": "ab3f322a-f5f1-4363-bf60-4a7fd474d6cf",
   "metadata": {},
   "source": [
    "#### Aggregate by path and report the total number of errors: output 4 columns: \n",
    "1. path: the path\n",
    "2. 404_errors: how many 404 errors that path received\n",
    "3. 500_errors: how many 500 errors that path received\n",
    "4. total_errors: total errors the given path received"
   ]
  },
  {
   "cell_type": "code",
   "execution_count": 13,
   "id": "a2b8f870-a735-4e72-bacb-5b688c17f3a5",
   "metadata": {},
   "outputs": [],
   "source": [
    "errors_df = errors_df.withColumn('404_errors', F.when((df.status_code == 404), F.lit(1)).otherwise(F.lit(0)))\n",
    "errors_df = errors_df.withColumn('500_errors', F.when((df.status_code == 500), F.lit(1)).otherwise(F.lit(0)))\n",
    "errors_df = errors_df.withColumn('total_errors', F.when((df.status_code == 500) | (df.status_code == 404), F.lit(1)).otherwise(F.lit(0)))"
   ]
  },
  {
   "cell_type": "code",
   "execution_count": 14,
   "id": "9e0633eb-2051-4660-9b4f-1756a34b066c",
   "metadata": {},
   "outputs": [],
   "source": [
    "errors_df = errors_df.drop('status_code')"
   ]
  },
  {
   "cell_type": "code",
   "execution_count": 15,
   "id": "58339095-2f2b-42e9-b678-701d4233eaa7",
   "metadata": {},
   "outputs": [],
   "source": [
    "errors_df = errors_df.groupBy('path').agg(F.sum('404_errors').alias('404_errors'),\n",
    "    F.sum('500_errors').alias('500_errors'),\n",
    "    F.sum('total_errors').alias('total_errors'))"
   ]
  },
  {
   "cell_type": "code",
   "execution_count": 16,
   "id": "42dbebae-fa40-40fd-b279-bd220e03ca90",
   "metadata": {},
   "outputs": [],
   "source": [
    "test(errors_df, output_mode='complete', sleep_time=10)"
   ]
  },
  {
   "cell_type": "code",
   "execution_count": 23,
   "id": "0c4999cd-f64c-4bce-9231-96233d66004f",
   "metadata": {},
   "outputs": [],
   "source": [
    "query = write_to_postgres(errors_df, 'errors_by_path', write_mode='overwrite', output_mode='complete')"
   ]
  },
  {
   "cell_type": "code",
   "execution_count": 24,
   "id": "ed7ca2fc-7d25-4b25-aa2a-24f465dfcb8f",
   "metadata": {},
   "outputs": [],
   "source": [
    "query.stop()"
   ]
  },
  {
   "cell_type": "code",
   "execution_count": 19,
   "id": "b1fc6a5d-3105-4948-ab44-ec3620d855ff",
   "metadata": {},
   "outputs": [],
   "source": [
    "window_duration = '1 minute'\n",
    "window_df = (\n",
    "    df.groupBy(F.window('timestamp', window_duration), 'ip_address')\n",
    "    .agg(F.count('ip_address').alias('count'))\n",
    "    .select(\n",
    "        F.col('window.start').alias('window_start'),\n",
    "        F.col('window.end').alias('window_end'),\n",
    "        'ip_address',\n",
    "        'count'\n",
    "    ).withColumn('dos_attack', F.col('count') > 100)\n",
    "    .orderBy(F.desc('window_start'))\n",
    ")\n",
    "test(window_df, output_mode='complete', sleep_time=30)"
   ]
  }
 ],
 "metadata": {
  "kernelspec": {
   "display_name": "Python 3 (ipykernel)",
   "language": "python",
   "name": "python3"
  },
  "language_info": {
   "codemirror_mode": {
    "name": "ipython",
    "version": 3
   },
   "file_extension": ".py",
   "mimetype": "text/x-python",
   "name": "python",
   "nbconvert_exporter": "python",
   "pygments_lexer": "ipython3",
   "version": "3.11.6"
  }
 },
 "nbformat": 4,
 "nbformat_minor": 5
}
